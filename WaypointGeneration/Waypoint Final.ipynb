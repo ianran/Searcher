{
 "cells": [
  {
   "cell_type": "code",
   "execution_count": 8,
   "metadata": {},
   "outputs": [],
   "source": [
    "#Waypoint Generation final\n",
    "#Written By Jeremy A. Grajeda Octoboer 2018\n",
    "#This function generates a raster patern of \"waypoints\" - GPS\n",
    "#coordinates used by the drone to fly over the search area\n",
    "#\n",
    "#Note: Includes suporting Function\n",
    "\n",
    "import numpy as np\n",
    "import sys\n",
    "\n",
    "def waypoint10(Lat,Long,LatFin,LongFin,L,W,Rmax,Theta):\n",
    "    #Tenth waypoint test, produces a rectangular raster of\n",
    "    #arbitrary size around the center point with a given\n",
    "    #rotation. Program recives and return Lattitude and \n",
    "    #Longtiude for location and recives meters for L and W of \n",
    "    #search area and Raster Length. Returns Distance Travled.\n",
    "    \n",
    "    #INPUTS:\n",
    "    #Long:    array of size 1 with middle Long of search area\n",
    "    #         this is returned as an array of all Longs\n",
    "    #Lat:     array of size 1 with middle Lat of search area\n",
    "    #         this is returned as an array of all Lats\n",
    "    #LongFin: final location (landing Long)\n",
    "    #LatFin:  final location (landing Lat)\n",
    "    #L:       Length of search area in meters\n",
    "    #W:       Width of search area in meters\n",
    "    #Rmax:    maximum Raster Length in meters: distance between\n",
    "    #         passes will be less than or equal to this value\n",
    "    #Theta:   angle of rotation(rad)\n",
    "    \n",
    "    #define start points\n",
    "    Lat[0]=Lat[0]-DtoLat(L/2.,Lat[0])*np.sin(Theta)-DtoLat(W/2.,Lat[0])*np.cos(Theta)\n",
    "    Long[0]=Long[0]-DtoLong(L/2.,Lat[0])*np.cos(Theta)+DtoLong(W/2.,Lat[0])*np.sin(Theta)\n",
    "    \n",
    "    #determin how many passes will be made\n",
    "    repeat = int(np.ceil(float(L)/Rmax))\n",
    "    \n",
    "    #define distance between passes\n",
    "    RL = L/float(repeat)\n",
    "    \n",
    "    #create waypoints for each pass\n",
    "    for i in range(0,(2*repeat+1)):\n",
    "        if i%2==1:\n",
    "            Lat.append(Lat[i]+DtoLat(RL,Lat[i])*np.sin(Theta))\n",
    "            Long.append(Long[i]+DtoLong(RL,Lat[i+1])*np.cos(Theta))\n",
    "\n",
    "        elif i%4==0:\n",
    "            Lat.append(Lat[i]+DtoLat(W,Lat[i])*np.cos(Theta))\n",
    "            Long.append(Long[i]-DtoLong(W,Lat[i+1])*np.sin(Theta))\n",
    "        else:\n",
    "            Lat.append(Lat[i]-DtoLat(W,Lat[i])*np.cos(Theta))\n",
    "            Long.append(Long[i]+DtoLong(W,Lat[i+1])*np.sin(Theta))\n",
    "    Lat.append(LatFin)\n",
    "    Long.append(LongFin)\n",
    "    return(repeat*W+L)"
   ]
  },
  {
   "cell_type": "code",
   "execution_count": 9,
   "metadata": {},
   "outputs": [],
   "source": [
    "#suporting functions\n",
    "def DtoLat(D,Lat):\n",
    "    #converts a distance in meters into degrees lat\n",
    "    return D/(111132.954 - 559.822 * np.cos(np.deg2rad(2 * Lat)) + 1.175 * np.cos(np.deg2rad(4 * Lat)))\n",
    "\n",
    "def DtoLong(D,Lat):\n",
    "    #given distance and lat, determins long\n",
    "    return D/(111132.954 * np.cos(np.deg2rad(Lat)))\n",
    "\n",
    "def cor(x,y):\n",
    "    #takes two arrays and combines them\n",
    "    t = []\n",
    "    for n in range(0,len(x)):\n",
    "        t.append((x[n],y[n]))\n",
    "    return t"
   ]
  },
  {
   "cell_type": "code",
   "execution_count": null,
   "metadata": {},
   "outputs": [],
   "source": []
  }
 ],
 "metadata": {
  "kernelspec": {
   "display_name": "Python 2",
   "language": "python",
   "name": "python2"
  },
  "language_info": {
   "codemirror_mode": {
    "name": "ipython",
    "version": 2
   },
   "file_extension": ".py",
   "mimetype": "text/x-python",
   "name": "python",
   "nbconvert_exporter": "python",
   "pygments_lexer": "ipython2",
   "version": "2.7.15"
  }
 },
 "nbformat": 4,
 "nbformat_minor": 2
}
