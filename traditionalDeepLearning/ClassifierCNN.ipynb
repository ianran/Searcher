{
 "cells": [
  {
   "cell_type": "code",
   "execution_count": 1,
   "metadata": {},
   "outputs": [],
   "source": [
    "import numpy as np\n",
    "import tensorflow as tf\n",
    "import matplotlib.pyplot as plt"
   ]
  },
  {
   "cell_type": "code",
   "execution_count": 2,
   "metadata": {},
   "outputs": [],
   "source": [
    "# setup the place holder input for the images\n",
    "imageWidth = 1024\n",
    "imageHeight = 1024\n",
    "\n",
    "x = tf.placeholder(tf.float32, shape=[None, imageWidth, imageWidth, 3])\n",
    "\n",
    "# setup placeholder input for labels\n",
    "y = tf.placeholder(tf.float32, shape=[None, 2])\n",
    "\n",
    "# placeholder for batch norm training phase.\n",
    "trainPhase = tf.placeholder(tf.bool)"
   ]
  },
  {
   "cell_type": "code",
   "execution_count": 3,
   "metadata": {},
   "outputs": [],
   "source": [
    "# define the batch norm function for use.\n",
    "decayRate = 0.99\n",
    "betaInit = tf.zeros_initializer(dtype=tf.float32)\n",
    "gammaInit = tf.ones_initializer(dtype=tf.float32)\n",
    "\n",
    "# batchNormLayer\n",
    "# Adds a batch normalization layer to to the filter.\n",
    "# x - input tensor\n",
    "# filterShape - shape of filter\n",
    "# num - the number to not have the same variable name for the gamma and beta variables.\n",
    "def batchNormLayer(x, filterShape ,num):\n",
    "    # assumed to be convlution filter\n",
    "\n",
    "    #define weight variables\n",
    "    gamma = tf.get_variable('gamma' + str(num), [filterShape[len(filterShape)- 1]], initializer=gammaInit)\n",
    "    beta = tf.get_variable('beta' + str(num), [filterShape[len(filterShape)- 1]], initializer=betaInit)\n",
    "\n",
    "    axes = []\n",
    "    if len(filterShape) == 4:\n",
    "        axes = [0,1,2]\n",
    "    else:\n",
    "        axes = [0]\n",
    "    batch_mean, batch_variance = tf.nn.moments(x, axes)\n",
    "    \n",
    "    ema = tf.train.ExponentialMovingAverage(decay=decayRate)\n",
    "    #ema_apply_op = ema.apply([batch_mean, batch_variance])\n",
    "    #mean = ema.average(batch_mean)\n",
    "    #variance = ema.average(batch_variance)\n",
    "    \n",
    "    def mean_var_with_update():\n",
    "            ema_apply_op = ema.apply([batch_mean, batch_variance])\n",
    "            with tf.control_dependencies([ema_apply_op]):\n",
    "                return tf.identity(batch_mean), tf.identity(batch_variance)\n",
    "\n",
    "    mean, variance = tf.cond(trainPhase,\n",
    "                        mean_var_with_update,\n",
    "                        lambda: (ema.average(batch_mean), ema.average(batch_variance)))\n",
    "    \n",
    "    \n",
    "\n",
    "    normed = tf.nn.batch_normalization(x, mean, variance, beta, gamma, 0.000001)\n",
    "    return normed, gamma, beta, ema.average(batch_mean), ema.average(batch_variance)"
   ]
  },
  {
   "cell_type": "code",
   "execution_count": 4,
   "metadata": {},
   "outputs": [],
   "source": [
    "# define convolutional layer\n",
    "# x - the input tensor\n",
    "# filterShape - the shape of the filter\n",
    "# poolShape - the shape of the pooling\n",
    "def convLayer(x, filterShape, poolShape):\n",
    "    \n"
   ]
  },
  {
   "cell_type": "code",
   "execution_count": 5,
   "metadata": {},
   "outputs": [
    {
     "name": "stdout",
     "output_type": "stream",
     "text": [
      "(<tf.Tensor 'batchnorm/add_1:0' shape=(?, 1024, 1024, 3) dtype=float32>, <tf.Variable 'gamma1:0' shape=(3,) dtype=float32_ref>, <tf.Variable 'beta1:0' shape=(3,) dtype=float32_ref>, <tf.Variable 'moments/Squeeze/ExponentialMovingAverage:0' shape=(1024, 1024, 3) dtype=float32_ref>, <tf.Variable 'moments/Squeeze_1/ExponentialMovingAverage:0' shape=(1024, 1024, 3) dtype=float32_ref>)\n"
     ]
    }
   ],
   "source": [
    "print(z)"
   ]
  },
  {
   "cell_type": "code",
   "execution_count": null,
   "metadata": {},
   "outputs": [],
   "source": []
  }
 ],
 "metadata": {
  "anaconda-cloud": {},
  "kernelspec": {
   "display_name": "Python [conda env:flow]",
   "language": "python",
   "name": "conda-env-flow-py"
  },
  "language_info": {
   "codemirror_mode": {
    "name": "ipython",
    "version": 3
   },
   "file_extension": ".py",
   "mimetype": "text/x-python",
   "name": "python",
   "nbconvert_exporter": "python",
   "pygments_lexer": "ipython3",
   "version": "3.5.4"
  }
 },
 "nbformat": 4,
 "nbformat_minor": 1
}
